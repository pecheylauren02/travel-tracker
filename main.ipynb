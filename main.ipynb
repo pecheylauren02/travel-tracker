{
 "cells": [
  {
   "cell_type": "markdown",
   "metadata": {},
   "source": [
    "# Travel Tracker App\n",
    "This is the documentation for a Python-based web application"
   ]
  },
  {
   "cell_type": "markdown",
   "metadata": {},
   "source": [
    "### Imports and Initialisation"
   ]
  },
  {
   "cell_type": "code",
   "execution_count": 2,
   "metadata": {},
   "outputs": [
    {
     "name": "stdout",
     "output_type": "stream",
     "text": [
      "Travel Tracker Initialized!\n"
     ]
    }
   ],
   "source": [
    "import json\n",
    "\n",
    "# Initialize travel data structure\n",
    "travel_data = {\n",
    "    \"visited\": [],\n",
    "    \"wishlist\": []\n",
    "}\n",
    "\n",
    "# Sample data for testing\n",
    "sample_data = [\n",
    "    {\"country\": \"France\", \"date\": \"2023-05-10\"},\n",
    "    {\"country\": \"Japan\", \"date\": \"2022-12-15\"},\n",
    "    {\"country\": \"Australia\", \"date\": \"\"}\n",
    "]\n",
    "travel_data[\"visited\"].extend(sample_data)\n",
    "\n",
    "print(\"Travel Tracker Initialized!\")"
   ]
  },
  {
   "cell_type": "markdown",
   "metadata": {},
   "source": [
    "### Display Menu Function"
   ]
  },
  {
   "cell_type": "code",
   "execution_count": 3,
   "metadata": {},
   "outputs": [
    {
     "name": "stdout",
     "output_type": "stream",
     "text": [
      "\\n--- Travel Tracker Menu ---\n",
      "1. Add a country\n",
      "2. Delete a country\n",
      "3. Search for a country\n",
      "4. Sort and display records\n",
      "5. Display all records\n",
      "6. Exit\n"
     ]
    }
   ],
   "source": [
    "# Function to display the main menu\n",
    "def display_menu():\n",
    "    print(\"\\\\n--- Travel Tracker Menu ---\")\n",
    "    print(\"1. Add a country\")\n",
    "    print(\"2. Delete a country\")\n",
    "    print(\"3. Search for a country\")\n",
    "    print(\"4. Sort and display records\")\n",
    "    print(\"5. Display all records\")\n",
    "    print(\"6. Exit\")\n",
    "\n",
    "display_menu()"
   ]
  },
  {
   "cell_type": "markdown",
   "metadata": {},
   "source": [
    "### Helper Functions: Confirmation Prompts\n",
    "\n",
    "These functions add confirmation messages when the user chooses an option from the menu. This allows the user to go back to the main menu if they accidentally press the wrong number on the menu."
   ]
  },
  {
   "cell_type": "code",
   "execution_count": 4,
   "metadata": {},
   "outputs": [],
   "source": [
    "# Function to confirm an action\n",
    "def prompt_confirmation(action):\n",
    "    confirmation = input(f\"Are you sure you want to {action}? (yes/no): \").strip().lower()\n",
    "    return confirmation == 'yes'"
   ]
  },
  {
   "cell_type": "markdown",
   "metadata": {},
   "source": [
    "### Core Functionalities\n",
    "\n",
    "These functions add, delete, search and sort records."
   ]
  },
  {
   "cell_type": "markdown",
   "metadata": {},
   "source": [
    "#### Adding and deleting countries"
   ]
  },
  {
   "cell_type": "code",
   "execution_count": null,
   "metadata": {},
   "outputs": [],
   "source": [
    "# Add a country to a specific category\n",
    "travel_data = {\n",
    "    \"visited\": [],\n",
    "    \"wishlist\": []\n",
    "}\n",
    "\n",
    "def add_country(travel_data):\n",
    "    category = input(\"Enter the category (visited/wishlist): \").strip().lower()\n",
    "    if category not in travel_data:\n",
    "        print(\"Invalid category. Use 'visited' or 'wishlist'.\")\n",
    "        return\n",
    "    country = input(\"Enter the country name: \").strip()\n",
    "    date = input(\"Enter the travel date (or leave blank): \").strip()\n",
    "    travel_data[category].append({\"country\": country, \"date\": date})\n",
    "    print(f\"Added {country} to {category.capitalize()} list.\")\n",
    "\n",
    "add_country(travel_data)\n",
    "\n",
    "# Delete a country from a specific category\n",
    "def delete_country(travel_data):\n",
    "    category = input(\"Enter the category (visited/wishlist): \").strip().lower()\n",
    "    if category not in travel_data:\n",
    "        print(\"Invalid category. Use 'visited' or 'wishlist'.\")\n",
    "        return\n",
    "    country = input(\"Enter the country name to delete: \").strip()\n",
    "    for record in travel_data[category]:\n",
    "        if record[\"country\"].lower() == country.lower():\n",
    "            if prompt_confirmation(f\"delete {country} from {category}\"):\n",
    "                travel_data[category].remove(record)\n",
    "                print(f\"Deleted {country} from {category.capitalize()} list.\")\n",
    "            return\n",
    "    print(f\"{country} not found in {category.capitalize()} list.\")\n"
   ]
  },
  {
   "cell_type": "markdown",
   "metadata": {},
   "source": [
    "#### Sorting and searching for countries"
   ]
  },
  {
   "cell_type": "code",
   "execution_count": 6,
   "metadata": {},
   "outputs": [],
   "source": [
    "# Search for a country in both categories\n",
    "def search_country(travel_data):\n",
    "    country = input(\"Enter the country name to search: \").strip()\n",
    "    found = False\n",
    "    for category, records in travel_data.items():\n",
    "        for record in records:\n",
    "            if country.lower() in record[\"country\"].lower():\n",
    "                print(f\"Found in {category.capitalize()} list: {record['country']} (Date: {record['date']})\")\n",
    "                found = True\n",
    "    if not found:\n",
    "        print(f\"{country} not found in any list.\")\n",
    "\n",
    "# Sort and display records\n",
    "def sort_records(travel_data):\n",
    "    category = input(\"Enter the category to sort (visited/wishlist): \").strip().lower()\n",
    "    if category not in travel_data:\n",
    "        print(\"Invalid category. Use 'visited' or 'wishlist'.\")\n",
    "        return\n",
    "    travel_data[category].sort(key=lambda x: x[\"country\"].lower())\n",
    "    print(f\"Sorted {category.capitalize()} list alphabetically.\")\n"
   ]
  },
  {
   "cell_type": "markdown",
   "metadata": {},
   "source": [
    "### Function to display all records\n",
    "\n",
    "This function displays all records as user enters their inputs."
   ]
  },
  {
   "cell_type": "code",
   "execution_count": 7,
   "metadata": {},
   "outputs": [],
   "source": [
    "# Display all records\n",
    "def display_records(travel_data):\n",
    "    print(\"\\\\n--- Travel Records ---\")\n",
    "    for category, records in travel_data.items():\n",
    "        print(f\"\\\\n{category.capitalize()} list:\")\n",
    "        for record in records:\n",
    "            print(f\"- {record['country']} (Date: {record['date']})\")\n"
   ]
  },
  {
   "cell_type": "markdown",
   "metadata": {},
   "source": [
    "### Main Application Logic"
   ]
  },
  {
   "cell_type": "code",
   "execution_count": 1,
   "metadata": {},
   "outputs": [
    {
     "name": "stdout",
     "output_type": "stream",
     "text": [
      "\\n--- Travel Tracker Menu ---\n",
      "1. Add a country\n",
      "2. Delete a country\n",
      "3. Search for a country\n",
      "4. Sort and display records\n",
      "5. Display all records\n",
      "6. Exit\n"
     ]
    }
   ],
   "source": [
    "# Main application logic\n",
    "def travel_tracker_app():\n",
    "    while True:\n",
    "        display_menu()\n",
    "        choice = input(\"Choose an option (1-6): \").strip()\n",
    "        if choice == \"1\":\n",
    "            add_country(travel_data)\n",
    "        elif choice == \"2\":\n",
    "            delete_country(travel_data)\n",
    "        elif choice == \"3\":\n",
    "            search_country(travel_data)\n",
    "        elif choice == \"4\":\n",
    "            sort_records(travel_data)\n",
    "        elif choice == \"5\":\n",
    "            display_records(travel_data)\n",
    "        elif choice == \"6\":\n",
    "            if prompt_confirmation(\"exit the application\"):\n",
    "                print(\"Exiting Travel Tracker. Goodbye!\")\n",
    "                break\n",
    "        else:\n",
    "            print(\"Invalid option. Please choose a valid option.\")\n",
    "\n",
    "# Run the app\n",
    "travel_tracker_app()\n"
   ]
  }
 ],
 "metadata": {
  "kernelspec": {
   "display_name": ".venv",
   "language": "python",
   "name": "python3"
  },
  "language_info": {
   "codemirror_mode": {
    "name": "ipython",
    "version": 3
   },
   "file_extension": ".py",
   "mimetype": "text/x-python",
   "name": "python",
   "nbconvert_exporter": "python",
   "pygments_lexer": "ipython3",
   "version": "3.12.6"
  }
 },
 "nbformat": 4,
 "nbformat_minor": 2
}

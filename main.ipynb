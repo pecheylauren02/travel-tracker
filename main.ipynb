{
 "cells": [
  {
   "cell_type": "markdown",
   "metadata": {},
   "source": [
    "# Travel Tracker App\n",
    "This is the documentation for a Python-based web application"
   ]
  },
  {
   "cell_type": "markdown",
   "metadata": {},
   "source": [
    "## Imports and Initialisation"
   ]
  },
  {
   "cell_type": "code",
   "execution_count": 6,
   "metadata": {},
   "outputs": [
    {
     "name": "stdout",
     "output_type": "stream",
     "text": [
      "Travel Tracker Initialized!\n"
     ]
    }
   ],
   "source": [
    "import json\n",
    "\n",
    "# Initialize travel data structure\n",
    "travel_data = {\n",
    "    \"visited\": [],\n",
    "    \"wishlist\": []\n",
    "}\n",
    "\n",
    "# Sample data for testing\n",
    "sample_data = [\n",
    "    {\"country\": \"France\", \"date\": \"2023-05-10\"},\n",
    "    {\"country\": \"Japan\", \"date\": \"2022-12-15\"},\n",
    "    {\"country\": \"Australia\", \"date\": \"\"}\n",
    "]\n",
    "travel_data[\"visited\"].extend(sample_data)\n",
    "\n",
    "print(\"Travel Tracker Initialized!\")"
   ]
  },
  {
   "cell_type": "markdown",
   "metadata": {},
   "source": [
    "Display Menu Function"
   ]
  }
 ],
 "metadata": {
  "kernelspec": {
   "display_name": ".venv",
   "language": "python",
   "name": "python3"
  },
  "language_info": {
   "codemirror_mode": {
    "name": "ipython",
    "version": 3
   },
   "file_extension": ".py",
   "mimetype": "text/x-python",
   "name": "python",
   "nbconvert_exporter": "python",
   "pygments_lexer": "ipython3",
   "version": "3.12.6"
  }
 },
 "nbformat": 4,
 "nbformat_minor": 2
}

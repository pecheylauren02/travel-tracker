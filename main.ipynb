{
 "cells": [
  {
   "cell_type": "markdown",
   "metadata": {},
   "source": [
    "# Travel Tracker Application"
   ]
  },
  {
   "cell_type": "markdown",
   "metadata": {},
   "source": [
    "This notebook manages travel data, allowing users to:\n",
    "- Add, search, sort, and view countries they've visited or wish to visit.\n",
    "- Validate and store country data.\n",
    "- Provide options to sort or display records.\n",
    "\n",
    "Modules used:\n",
    "- `os`\n",
    "- `sys`\n",
    "- `re`\n",
    "- `datetime`\n"
   ]
  },
  {
   "cell_type": "markdown",
   "metadata": {},
   "source": [
    "## Modules and Variables"
   ]
  },
  {
   "cell_type": "markdown",
   "metadata": {},
   "source": [
    "### Module Imports"
   ]
  },
  {
   "cell_type": "code",
   "execution_count": 1,
   "metadata": {},
   "outputs": [],
   "source": [
    "import os\n",
    "import sys\n",
    "import re\n",
    "from datetime import datetime\n"
   ]
  },
  {
   "cell_type": "markdown",
   "metadata": {},
   "source": [
    "### Initialise Variables"
   ]
  },
  {
   "cell_type": "code",
   "execution_count": 2,
   "metadata": {},
   "outputs": [],
   "source": [
    "valid_countries = [\n",
    "    \"Afghanistan\", \"Albania\", \"Algeria\", \"Andorra\", \"Angola\",\n",
    "    \"Antigua and Barbuda\", \"Argentina\", \"Armenia\", \"Australia\", \"Austria\",\n",
    "    \"Azerbaijan\", \"Bahamas\", \"Bahrain\", \"Bangladesh\", \"Barbados\",\n",
    "    \"Belarus\", \"Belgium\", \"Belize\", \"Benin\", \"Bhutan\",\n",
    "    \"Bolivia\", \"Bosnia and Herzegovina\", \"Botswana\", \"Brazil\",\n",
    "    \"Brunei\", \"Bulgaria\", \"Burkina Faso\", \"Burundi\", \"Cabo Verde\",\n",
    "    \"Cambodia\", \"Cameroon\", \"Canada\", \"Central African Republic\",\n",
    "    \"Chad\", \"Chile\", \"China\", \"Colombia\", \"Comoros\", \"Congo\",\n",
    "    \"Costa Rica\", \"Croatia\", \"Cuba\", \"Cyprus\", \"Czech Republic\",\n",
    "    \"Democratic Republic of the Congo\", \"Denmark\", \"Djibouti\",\n",
    "    \"Dominica\", \"Dominican Republic\", \"Ecuador\", \"Egypt\", \"El Salvador\",\n",
    "    \"Equatorial Guinea\", \"Eritrea\", \"Estonia\", \"Eswatini\", \"Ethiopia\",\n",
    "    \"Fiji\", \"Finland\", \"France\", \"Gabon\", \"Gambia\", \"Georgia\",\n",
    "    \"Germany\", \"Ghana\", \"Greece\", \"Grenada\", \"Guatemala\", \"Guinea\",\n",
    "    \"Guinea-Bissau\", \"Guyana\", \"Haiti\", \"Honduras\", \"Hungary\",\n",
    "    \"Iceland\", \"India\", \"Indonesia\", \"Iran\", \"Iraq\", \"Ireland\",\n",
    "    \"Israel\", \"Italy\", \"Jamaica\", \"Japan\", \"Jordan\", \"Kazakhstan\",\n",
    "    \"Kenya\", \"Kiribati\", \"Korea, North\", \"Korea, South\", \"Kuwait\",\n",
    "    \"Kyrgyzstan\", \"Laos\", \"Latvia\", \"Lebanon\", \"Lesotho\", \"Liberia\",\n",
    "    \"Libya\", \"Liechtenstein\", \"Lithuania\", \"Luxembourg\", \"Madagascar\",\n",
    "    \"Malawi\", \"Malaysia\", \"Maldives\", \"Mali\", \"Malta\", \"Marshall Islands\",\n",
    "    \"Mauritania\", \"Mauritius\", \"Mexico\", \"Micronesia\", \"Moldova\",\n",
    "    \"Monaco\", \"Mongolia\", \"Montenegro\", \"Morocco\", \"Mozambique\",\n",
    "    \"Myanmar\", \"Namibia\", \"Nauru\", \"Nepal\", \"Netherlands\", \"New Zealand\",\n",
    "    \"Nicaragua\", \"Niger\", \"Nigeria\", \"North Macedonia\", \"Norway\", \"Oman\",\n",
    "    \"Pakistan\", \"Palau\", \"Panama\", \"Papua New Guinea\", \"Paraguay\", \"Peru\",\n",
    "    \"Philippines\", \"Poland\", \"Portugal\", \"Qatar\", \"Romania\", \"Russia\",\n",
    "    \"Rwanda\", \"Saint Kitts and Nevis\", \"Saint Lucia\",\n",
    "    \"Saint Vincent and the Grenadines\", \"Samoa\", \"San Marino\",\n",
    "    \"Sao Tome and Principe\", \"Saudi Arabia\", \"Senegal\",\n",
    "    \"Serbia\", \"Seychelles\", \"Sierra Leone\", \"Singapore\",\n",
    "    \"Slovakia\", \"Slovenia\", \"Solomon Islands\", \"Somalia\", \"South Africa\",\n",
    "    \"South Sudan\", \"Spain\", \"Sri Lanka\", \"Sudan\", \"Suriname\",\n",
    "    \"Sweden\", \"Switzerland\", \"Syria\", \"Taiwan\", \"Tajikistan\", \"Tanzania\",\n",
    "    \"Thailand\", \"Timor-Leste\", \"Togo\", \"Tonga\", \"Trinidad and Tobago\",\n",
    "    \"Tunisia\", \"Turkey\", \"Turkmenistan\", \"Tuvalu\", \"Uganda\",\n",
    "    \"Ukraine\", \"United Arab Emirates\", \"United Kingdom\",\n",
    "    \"United States\", \"Uruguay\", \"Uzbekistan\", \"Vanuatu\", \"Vatican City\",\n",
    "    \"Venezuela\", \"Vietnam\", \"Yemen\", \"Zambia\", \"Zimbabwe\"\n",
    "]\n",
    "\n",
    "# Initialise travel data structure\n",
    "travel_data = {\n",
    "    \"visited\": [],\n",
    "    \"wishlist\": []\n",
    "}\n",
    "\n",
    "STORED_AGE = None\n"
   ]
  },
  {
   "cell_type": "markdown",
   "metadata": {},
   "source": [
    "## Functions"
   ]
  },
  {
   "cell_type": "markdown",
   "metadata": {},
   "source": [
    "### Clear Terminal Function\n",
    "This function clears the terminal for better display."
   ]
  },
  {
   "cell_type": "code",
   "execution_count": 3,
   "metadata": {},
   "outputs": [],
   "source": [
    "def clear_terminal():\n",
    "    \"\"\"\n",
    "    Allows the user to add a country to their visited or wishlist category.\n",
    "    Prompts for the country, category, age, and travel date with validations.\n",
    "    \"\"\"\n",
    "    os.system('cls' if os.name == 'nt' else 'clear')"
   ]
  },
  {
   "cell_type": "markdown",
   "metadata": {},
   "source": [
    "### Display Menu Function\n",
    "\n",
    "This function displays the main menu to the user."
   ]
  },
  {
   "cell_type": "code",
   "execution_count": 4,
   "metadata": {},
   "outputs": [],
   "source": [
    "def display_menu():\n",
    "    \"\"\"\n",
    "    Displays the main menu of the Travel Tracker\n",
    "    application with formatted options.\n",
    "    \"\"\"\n",
    "    menu_border = \"=\" * 50\n",
    "    title = \"Welcome to the Travel Tracker Application 🌍\"\n",
    "    options = [\n",
    "        (\"\\033[1;32m1. Add a country\\033[0m\"),\n",
    "        (\"\\033[1;33m2. Delete a country\\033[0m\"),\n",
    "        (\"\\033[1;35m3. Search for a country\\033[0m\"),\n",
    "        (\"\\033[1;36m4. Sort your countries\\033[0m\"),\n",
    "        (\"\\033[1;37m5. Display all countries\\033[0m\"),\n",
    "        (\"\\033[1;31m6. Exit\\033[0m\"),\n",
    "    ]\n",
    "\n",
    "    print(\"\\033[1;34m\" + menu_border + \"\\033[0m\")\n",
    "    print(\"\\033[1;37m\" + f\"  {title}\".ljust(48) + \"\\033[0m\")\n",
    "    print(\"\\033[1;34m\" + menu_border + \"\\033[0m\\n\")\n",
    "\n",
    "    print(\"Choose an option:\")\n",
    "    for option in options:\n",
    "        print(f\"  {option}\")\n",
    "\n",
    "    print(\"\\n\\033[1;34m\" + menu_border + \"\\033[0m\")"
   ]
  },
  {
   "cell_type": "markdown",
   "metadata": {},
   "source": [
    "### Core Functionalities\n",
    "\n",
    "These functions add, delete, search and sort records."
   ]
  },
  {
   "cell_type": "markdown",
   "metadata": {},
   "source": [
    "#### Adding and deleting countries"
   ]
  },
  {
   "cell_type": "code",
   "execution_count": null,
   "metadata": {},
   "outputs": [],
   "source": [
    "# Add a country to a specific category\n",
    "travel_data = {\n",
    "    \"visited\": [],\n",
    "    \"wishlist\": []\n",
    "}\n",
    "\n",
    "def add_country(travel_data):\n",
    "    category = input(\"Enter the category (visited/wishlist): \").strip().lower()\n",
    "    if category not in travel_data:\n",
    "        print(\"Invalid category. Use 'visited' or 'wishlist'.\")\n",
    "        return\n",
    "    country = input(\"Enter the country name: \").strip()\n",
    "    date = input(\"Enter the travel date (or leave blank): \").strip()\n",
    "    travel_data[category].append({\"country\": country, \"date\": date})\n",
    "    print(f\"Added {country} to {category.capitalize()} list.\")\n",
    "\n",
    "add_country(travel_data)\n",
    "\n",
    "# Delete a country from a specific category\n",
    "def delete_country(travel_data):\n",
    "    category = input(\"Enter the category (visited/wishlist): \").strip().lower()\n",
    "    if category not in travel_data:\n",
    "        print(\"Invalid category. Use 'visited' or 'wishlist'.\")\n",
    "        return\n",
    "    country = input(\"Enter the country name to delete: \").strip()\n",
    "    for record in travel_data[category]:\n",
    "        if record[\"country\"].lower() == country.lower():\n",
    "            if prompt_confirmation(f\"delete {country} from {category}\"):\n",
    "                travel_data[category].remove(record)\n",
    "                print(f\"Deleted {country} from {category.capitalize()} list.\")\n",
    "            return\n",
    "    print(f\"{country} not found in {category.capitalize()} list.\")\n"
   ]
  },
  {
   "cell_type": "markdown",
   "metadata": {},
   "source": [
    "### Confirmation Function\n",
    "\n",
    "This function ensures the user is asked twice before exiting the application, incase they accidentally exit. "
   ]
  },
  {
   "cell_type": "code",
   "execution_count": 5,
   "metadata": {},
   "outputs": [],
   "source": [
    "def prompt_confirmation(action):\n",
    "    \"\"\"\n",
    "    Prompts the user to confirm an action.\n",
    "\n",
    "    Parameters:\n",
    "        action (str): The action to confirm.\n",
    "\n",
    "    Returns:\n",
    "        bool: True if the user confirms the action, False otherwise.\n",
    "    \"\"\"\n",
    "    confirmation = input(f\"Are you sure you want to {action}? (yes/no): \"\n",
    "                         ).strip().lower()\n",
    "    return confirmation == 'yes'"
   ]
  },
  {
   "cell_type": "markdown",
   "metadata": {},
   "source": [
    "### Validation Functions\n",
    "These functions validate the user's age and the date entered. This is to ensure that the user enters correct information when using the application. "
   ]
  },
  {
   "cell_type": "code",
   "execution_count": 5,
   "metadata": {},
   "outputs": [],
   "source": [
    "\n",
    "def validate_category():\n",
    "    \"\"\"\n",
    "    Ensures the user enters a valid category ('visited' or 'wishlist').\n",
    "    \"\"\"\n",
    "    while True:\n",
    "        category = input(\"\\nType either 'visited' or 'wishlist' to continue: \"\n",
    "                         ).strip().lower()\n",
    "        if category not in travel_data:\n",
    "            print(\"\\nInvalid category. Please use 'visited' or 'wishlist'.\")\n",
    "        else:\n",
    "            return category\n",
    "\n",
    "\n",
    "def validate_age():\n",
    "    \"\"\"\n",
    "    Validates the user's age input if needed.\n",
    "    \"\"\"\n",
    "    while True:\n",
    "        age_input = input(\"\\nPlease enter your age: \").strip()\n",
    "        if not age_input.isdigit() or not 1 <= int(age_input) <= 120:\n",
    "            print(\"\\nPlease enter a valid age between 1 and 120.\")\n",
    "        else:\n",
    "            return int(age_input)\n",
    "\n",
    "\n",
    "def validate_country():\n",
    "    \"\"\"\n",
    "    Validates the country input against valid countries.\n",
    "    \"\"\"\n",
    "    while True:\n",
    "        country = input(\"\\nCountry name: \").strip().title()\n",
    "        if country not in valid_countries:\n",
    "            print(\"\\nOops! You have either entered an invalid country!\")\n",
    "            print(\"\\nTry entering it again.\")\n",
    "        else:\n",
    "            print(f\"\\nSuccessfully added {country}.\")\n",
    "            return country\n",
    "\n",
    "\n",
    "def validate_date(min_date, category):\n",
    "    \"\"\"\n",
    "    Validates the travel date entered by the user.\n",
    "    \"\"\"\n",
    "    while True:\n",
    "        date = input(\"\\nEnter the travel date (dd-mm-yyyy): \").strip()\n",
    "\n",
    "        if not date:\n",
    "            print(\"\\nYou have not entered anything yet.\")\n",
    "            print(\"\\nPlease enter the date as dd-mm-yyyy\")\n",
    "            continue\n",
    "\n",
    "        if not re.match(r'^\\d{2}-\\d{2}-\\d{4}$', date):\n",
    "            print(\"\\nUh Oh! Please enter the date in dd-mm-yyyy format.\")\n",
    "            continue\n",
    "\n",
    "        try:\n",
    "            date_obj = datetime.strptime(date, \"%d-%m-%Y\")\n",
    "        except ValueError:\n",
    "            print(\"\\nUh Oh! The date you entered is wrong!\")\n",
    "            continue\n",
    "\n",
    "        if min_date and date_obj < min_date:\n",
    "            print(\"\\nYou cannot enter a date before your birthyear.\")\n",
    "            continue\n",
    "\n",
    "        if category == \"wishlist\" and date_obj <= datetime.now():\n",
    "            print(\"\\nYou can only add countries with a future date!\")\n",
    "            continue\n",
    "\n",
    "        if category == \"visited\" and date_obj > datetime.now():\n",
    "            print(\"\\nYou cannot enter a future date for a visited country.\")\n",
    "            continue\n",
    "\n",
    "        return date_obj"
   ]
  },
  {
   "cell_type": "markdown",
   "metadata": {},
   "source": [
    "### Function to display all records\n",
    "\n",
    "This function displays all records as user enters their inputs."
   ]
  },
  {
   "cell_type": "code",
   "execution_count": 6,
   "metadata": {},
   "outputs": [],
   "source": [
    "# Display all records\n",
    "def display_records(travel_data):\n",
    "    print(\"\\\\n--- Travel Records ---\")\n",
    "    for category, records in travel_data.items():\n",
    "        print(f\"\\\\n{category.capitalize()} list:\")\n",
    "        for record in records:\n",
    "            print(f\"- {record['country']} (Date: {record['date']})\")\n"
   ]
  },
  {
   "cell_type": "markdown",
   "metadata": {},
   "source": [
    "### Main Application Logic"
   ]
  },
  {
   "cell_type": "code",
   "execution_count": 1,
   "metadata": {},
   "outputs": [
    {
     "name": "stdout",
     "output_type": "stream",
     "text": [
      "\\n--- Travel Tracker Menu ---\n",
      "1. Add a country\n",
      "2. Delete a country\n",
      "3. Search for a country\n",
      "4. Sort and display records\n",
      "5. Display all records\n",
      "6. Exit\n"
     ]
    }
   ],
   "source": [
    "# Main application logic\n",
    "def travel_tracker_app():\n",
    "    while True:\n",
    "        display_menu()\n",
    "        choice = input(\"Choose an option (1-6): \").strip()\n",
    "        if choice == \"1\":\n",
    "            add_country(travel_data)\n",
    "        elif choice == \"2\":\n",
    "            delete_country(travel_data)\n",
    "        elif choice == \"3\":\n",
    "            search_country(travel_data)\n",
    "        elif choice == \"4\":\n",
    "            sort_records(travel_data)\n",
    "        elif choice == \"5\":\n",
    "            display_records(travel_data)\n",
    "        elif choice == \"6\":\n",
    "            if prompt_confirmation(\"exit the application\"):\n",
    "                print(\"Exiting Travel Tracker. Goodbye!\")\n",
    "                break\n",
    "        else:\n",
    "            print(\"Invalid option. Please choose a valid option.\")\n",
    "\n",
    "# Run the app\n",
    "travel_tracker_app()\n"
   ]
  }
 ],
 "metadata": {
  "kernelspec": {
   "display_name": ".venv",
   "language": "python",
   "name": "python3"
  },
  "language_info": {
   "codemirror_mode": {
    "name": "ipython",
    "version": 3
   },
   "file_extension": ".py",
   "mimetype": "text/x-python",
   "name": "python",
   "nbconvert_exporter": "python",
   "pygments_lexer": "ipython3",
   "version": "3.12.6"
  }
 },
 "nbformat": 4,
 "nbformat_minor": 2
}
